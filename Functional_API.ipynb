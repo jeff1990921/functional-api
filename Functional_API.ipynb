{
  "nbformat": 4,
  "nbformat_minor": 0,
  "metadata": {
    "colab": {
      "name": "Functional API.ipynb",
      "provenance": []
    },
    "kernelspec": {
      "name": "python3",
      "display_name": "Python 3"
    }
  },
  "cells": [
    {
      "cell_type": "markdown",
      "metadata": {
        "id": "dVAE_QtDjVax",
        "colab_type": "text"
      },
      "source": [
        "# Step 1, 切換tensorflow版本、匯入套件"
      ]
    },
    {
      "cell_type": "markdown",
      "metadata": {
        "id": "i_bzaycGoNjV",
        "colab_type": "text"
      },
      "source": [
        ""
      ]
    },
    {
      "cell_type": "code",
      "metadata": {
        "id": "rUOeXZThjT76",
        "colab_type": "code",
        "colab": {}
      },
      "source": [
        "%tensorflow_verison 2.x"
      ],
      "execution_count": 0,
      "outputs": []
    },
    {
      "cell_type": "code",
      "metadata": {
        "id": "3hEPpD8NjZzz",
        "colab_type": "code",
        "colab": {}
      },
      "source": [
        "import matplotlib.pyplot as plt\n",
        "import numpy as np\n",
        "\n",
        "# Layers for FNN\n",
        "from tensorflow.keras.models import Sequential\n",
        "from tensorflow.keras.layers import Dense\n",
        "from tensorflow.keras.layers import Flatten\n",
        "\n",
        "# Layers for CNN\n",
        "from tensorflow.keras.layers import Conv2D, MaxPool2D, GlobalAveragePooling2D\n",
        "from tensorflow.keras.optimizers import SGD, Adam\n",
        "\n",
        "# Data Preprocessing\n",
        "from tensorflow.keras import datasets\n",
        "from tensorflow.keras.utils import to_categorical"
      ],
      "execution_count": 0,
      "outputs": []
    },
    {
      "cell_type": "markdown",
      "metadata": {
        "id": "B4iHIPOTkdfC",
        "colab_type": "text"
      },
      "source": [
        "# Step 2,下載並整理 Fashion MNIST 資料集\n",
        "\n"
      ]
    },
    {
      "cell_type": "code",
      "metadata": {
        "id": "DgQD8yeJki-I",
        "colab_type": "code",
        "outputId": "39957e0d-9513-4df4-fd17-5bdc913c6507",
        "colab": {
          "base_uri": "https://localhost:8080/",
          "height": 153
        }
      },
      "source": [
        "# Load Data\n",
        "(X_train, y_train0), (X_test, y_test0) = datasets.fashion_mnist.load_data()\n",
        "\n",
        "# Reshape Size\n",
        "X_train = X_train.reshape(-1, 28*28)\n",
        "X_test = X_test.reshape(-1, 28*28)\n",
        "\n",
        "# Normalization\n",
        "X_train = X_train / X_train.max()\n",
        "X_test = X_test / X_test.max()\n",
        "\n",
        "# One-hot encoding\n",
        "y_train = to_categorical(y_train0, 10)\n",
        "y_test = to_categorical(y_test0, 10)"
      ],
      "execution_count": 0,
      "outputs": [
        {
          "output_type": "stream",
          "text": [
            "Downloading data from https://storage.googleapis.com/tensorflow/tf-keras-datasets/train-labels-idx1-ubyte.gz\n",
            "32768/29515 [=================================] - 0s 0us/step\n",
            "Downloading data from https://storage.googleapis.com/tensorflow/tf-keras-datasets/train-images-idx3-ubyte.gz\n",
            "26427392/26421880 [==============================] - 1s 0us/step\n",
            "Downloading data from https://storage.googleapis.com/tensorflow/tf-keras-datasets/t10k-labels-idx1-ubyte.gz\n",
            "8192/5148 [===============================================] - 0s 0us/step\n",
            "Downloading data from https://storage.googleapis.com/tensorflow/tf-keras-datasets/t10k-images-idx3-ubyte.gz\n",
            "4423680/4422102 [==============================] - 0s 0us/step\n"
          ],
          "name": "stdout"
        }
      ]
    },
    {
      "cell_type": "markdown",
      "metadata": {
        "id": "jjN2J06aksN3",
        "colab_type": "text"
      },
      "source": [
        "#Step 3, 建模型\n",
        "## 把第一層修改為600，之後分歧成兩個分別是450和150，最後在合起來，輸出為10\n"
      ]
    },
    {
      "cell_type": "code",
      "metadata": {
        "id": "NbO8xYuvkxlC",
        "colab_type": "code",
        "colab": {}
      },
      "source": [
        "from tensorflow.keras.models import Model\n",
        "from tensorflow.keras.layers import Input\n",
        "from tensorflow.keras.layers import concatenate, add\n",
        "f_1 = Dense(600, activation='sigmoid')\n",
        "f_2 = Dense(450, activation='sigmoid')\n",
        "f_4 = Dense(150, activation='relu')\n",
        "f_3 = Dense(600, activation='sigmoid')\n",
        "f_5 = Dense(10, activation='softmax')\n",
        "x = Input(shape=(784,))\n",
        "h_1 = f_1(x)\n",
        "h_2 = f_2(h_1)\n",
        "z = f_4(h_1)\n",
        "h_3 = concatenate([h_2, z])\n",
        "y = f_5(h_3)"
      ],
      "execution_count": 0,
      "outputs": []
    },
    {
      "cell_type": "code",
      "metadata": {
        "id": "cDlq1zsmk09_",
        "colab_type": "code",
        "outputId": "47d1a40c-6378-42ee-e386-1f3b277f3845",
        "colab": {
          "base_uri": "https://localhost:8080/",
          "height": 374
        }
      },
      "source": [
        "split_model = Model(x, y)\n",
        "split_model.summary()"
      ],
      "execution_count": 0,
      "outputs": [
        {
          "output_type": "stream",
          "text": [
            "Model: \"model\"\n",
            "__________________________________________________________________________________________________\n",
            "Layer (type)                    Output Shape         Param #     Connected to                     \n",
            "==================================================================================================\n",
            "input_1 (InputLayer)            [(None, 784)]        0                                            \n",
            "__________________________________________________________________________________________________\n",
            "dense_5 (Dense)                 (None, 600)          471000      input_1[0][0]                    \n",
            "__________________________________________________________________________________________________\n",
            "dense_6 (Dense)                 (None, 450)          270450      dense_5[0][0]                    \n",
            "__________________________________________________________________________________________________\n",
            "dense_7 (Dense)                 (None, 150)          90150       dense_5[0][0]                    \n",
            "__________________________________________________________________________________________________\n",
            "concatenate (Concatenate)       (None, 600)          0           dense_6[0][0]                    \n",
            "                                                                 dense_7[0][0]                    \n",
            "__________________________________________________________________________________________________\n",
            "dense_9 (Dense)                 (None, 10)           6010        concatenate[0][0]                \n",
            "==================================================================================================\n",
            "Total params: 837,610\n",
            "Trainable params: 837,610\n",
            "Non-trainable params: 0\n",
            "__________________________________________________________________________________________________\n"
          ],
          "name": "stdout"
        }
      ]
    },
    {
      "cell_type": "code",
      "metadata": {
        "id": "pgSmd7mdmAgc",
        "colab_type": "code",
        "colab": {}
      },
      "source": [
        "#把optimizer換成SGD, learning rate = 0.075\n",
        "split_model.compile(loss='mse', \n",
        "              optimizer=SGD(lr=0.075), \n",
        "              metrics=['accuracy'])"
      ],
      "execution_count": 0,
      "outputs": []
    },
    {
      "cell_type": "code",
      "metadata": {
        "id": "BYrqCfNWmHcz",
        "colab_type": "code",
        "outputId": "f46cc4b6-d022-40eb-e09e-e6660093bdcd",
        "colab": {
          "base_uri": "https://localhost:8080/",
          "height": 544
        }
      },
      "source": [
        "#batch_size調至128, epochs = 15\n",
        "split_model.fit(X_train, y_train, \n",
        "                batch_size=128, \n",
        "                epochs=15)"
      ],
      "execution_count": 0,
      "outputs": [
        {
          "output_type": "stream",
          "text": [
            "Epoch 1/15\n",
            "469/469 [==============================] - 7s 15ms/step - loss: 0.0347 - accuracy: 0.7594\n",
            "Epoch 2/15\n",
            "469/469 [==============================] - 7s 16ms/step - loss: 0.0340 - accuracy: 0.7625\n",
            "Epoch 3/15\n",
            "469/469 [==============================] - 7s 16ms/step - loss: 0.0334 - accuracy: 0.7676\n",
            "Epoch 4/15\n",
            "469/469 [==============================] - 8s 16ms/step - loss: 0.0328 - accuracy: 0.7712\n",
            "Epoch 5/15\n",
            "469/469 [==============================] - 7s 15ms/step - loss: 0.0323 - accuracy: 0.7749\n",
            "Epoch 6/15\n",
            "469/469 [==============================] - 7s 15ms/step - loss: 0.0318 - accuracy: 0.7788\n",
            "Epoch 7/15\n",
            "469/469 [==============================] - 7s 16ms/step - loss: 0.0314 - accuracy: 0.7822\n",
            "Epoch 8/15\n",
            "469/469 [==============================] - 7s 16ms/step - loss: 0.0310 - accuracy: 0.7868\n",
            "Epoch 9/15\n",
            "469/469 [==============================] - 7s 16ms/step - loss: 0.0305 - accuracy: 0.7887\n",
            "Epoch 10/15\n",
            "469/469 [==============================] - 7s 15ms/step - loss: 0.0301 - accuracy: 0.7928\n",
            "Epoch 11/15\n",
            "469/469 [==============================] - 7s 16ms/step - loss: 0.0298 - accuracy: 0.7946\n",
            "Epoch 12/15\n",
            "469/469 [==============================] - 7s 16ms/step - loss: 0.0294 - accuracy: 0.7980\n",
            "Epoch 13/15\n",
            "469/469 [==============================] - 7s 16ms/step - loss: 0.0291 - accuracy: 0.8010\n",
            "Epoch 14/15\n",
            "469/469 [==============================] - 7s 16ms/step - loss: 0.0288 - accuracy: 0.8022\n",
            "Epoch 15/15\n",
            "469/469 [==============================] - 7s 16ms/step - loss: 0.0284 - accuracy: 0.8054\n"
          ],
          "name": "stdout"
        },
        {
          "output_type": "execute_result",
          "data": {
            "text/plain": [
              "<tensorflow.python.keras.callbacks.History at 0x7f57205ca7b8>"
            ]
          },
          "metadata": {
            "tags": []
          },
          "execution_count": 11
        }
      ]
    },
    {
      "cell_type": "code",
      "metadata": {
        "id": "s--kIsuumxz2",
        "colab_type": "code",
        "outputId": "639d8b97-f5ae-4b7f-9902-ed257f6716a2",
        "colab": {
          "base_uri": "https://localhost:8080/",
          "height": 68
        }
      },
      "source": [
        "score = split_model.evaluate(X_train, y_train, batch_size=10000)\n",
        "print(f'Loss: {score[0]}')\n",
        "print(f'準確率: {score[1]*100}')"
      ],
      "execution_count": 0,
      "outputs": [
        {
          "output_type": "stream",
          "text": [
            "6/6 [==============================] - 1s 246ms/step - loss: 0.0283 - accuracy: 0.8059\n",
            "Loss: 0.028265079483389854\n",
            "準確率: 80.59166669845581\n"
          ],
          "name": "stdout"
        }
      ]
    },
    {
      "cell_type": "markdown",
      "metadata": {
        "id": "iHY3ZECHny2B",
        "colab_type": "text"
      },
      "source": [
        "隱藏層中的神經元數目較範例程式減少(可訓練的參數減少)，並替換了optimizer、下修batch_size、把epoch設為15。從結果來看，神經網路的學習效果有下降，但我覺得可能因為epoch設為15讓她loss值可以下降多一點，才會讓學習的效果沒有到根源來得差很多(準確率: 87% → 80.6%)。"
      ]
    },
    {
      "cell_type": "code",
      "metadata": {
        "id": "eJzD8AzQn6Bm",
        "colab_type": "code",
        "colab": {}
      },
      "source": [
        ""
      ],
      "execution_count": 0,
      "outputs": []
    }
  ]
}